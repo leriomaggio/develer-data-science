{
 "cells": [
  {
   "cell_type": "markdown",
   "metadata": {},
   "source": [
    "# Level Up: Final Challenge on Data Viz"
   ]
  },
  {
   "cell_type": "markdown",
   "metadata": {},
   "source": [
    "## matplotlib - 2D and 3D plotting in Python"
   ]
  },
  {
   "cell_type": "code",
   "execution_count": 1,
   "metadata": {},
   "outputs": [],
   "source": [
    "# This line configures matplotlib to show figures embedded in the notebook, \n",
    "# instead of opening a new window for each figure.\n",
    "%matplotlib notebook"
   ]
  },
  {
   "cell_type": "markdown",
   "metadata": {},
   "source": [
    "### Brief Recap to Matplotlib"
   ]
  },
  {
   "cell_type": "markdown",
   "metadata": {},
   "source": [
    "Matplotlib is an excellent 2D and 3D graphics library for generating scientific figures. Some of the many advantages of this library include:\n",
    "\n",
    "* Easy to get started\n",
    "* Support for $\\LaTeX$ formatted labels and texts\n",
    "* Great control of every element in a figure, including figure size and DPI. \n",
    "* High-quality output in many formats, including PNG, PDF, SVG, EPS, and PGF.\n",
    "* GUI for interactively exploring figures *and* support for headless generation of figure files (useful for batch jobs).\n",
    "\n",
    "One of the of the key features of matplotlib that I would like to emphasize, and that I think makes matplotlib highly suitable for generating figures for scientific publications is that all aspects of the figure can be controlled *programmatically*. This is important for reproducibility and convenient when one needs to regenerate the figure with updated data or change its appearance. \n",
    "\n",
    "More information at the Matplotlib web page: http://matplotlib.org/\n",
    "\n",
    "**To get started**:\n",
    "import the `matplotlib.pyplot` module under the name `plt` (the tidy way):"
   ]
  },
  {
   "cell_type": "code",
   "execution_count": 2,
   "metadata": {
    "collapsed": true
   },
   "outputs": [],
   "source": [
    "import matplotlib.pyplot as plt  # de-facto convention"
   ]
  },
  {
   "cell_type": "markdown",
   "metadata": {},
   "source": [
    "# 1. Matlab-like API - Basic Plotting\n",
    "\n",
    "The easiest way to get started with plotting using matplotlib is often to use the MATLAB-like API provided by matplotlib. \n",
    "\n",
    "It is designed to be compatible with MATLAB's plotting functions, so it is easy to get started with if you are familiar with MATLAB."
   ]
  },
  {
   "cell_type": "markdown",
   "metadata": {},
   "source": [
    "## Ex. 1.1\n",
    "\n",
    "Generate two arrays, `x` and `y` so that values of `y` are any function of `x` (e.g. $y = x^2)$. Plot the resulting values.\n",
    "\n",
    "#### Hint: Take a look at `plot` to generage plot. Take also a look to `xlabel` and `ylabel`. When you're done, call `show()` to actually display the chart."
   ]
  },
  {
   "cell_type": "code",
   "execution_count": null,
   "metadata": {
    "collapsed": true
   },
   "outputs": [],
   "source": []
  },
  {
   "cell_type": "markdown",
   "metadata": {},
   "source": [
    "## Ex 1.1.1\n",
    "\n",
    "Plot the `sin` function"
   ]
  },
  {
   "cell_type": "code",
   "execution_count": null,
   "metadata": {
    "collapsed": true
   },
   "outputs": [],
   "source": []
  },
  {
   "cell_type": "markdown",
   "metadata": {},
   "source": [
    "## Ex 1.2\n",
    "\n",
    "With the same two `x` and `y` arrays of the previous exercise, generate two plots inverting axis. If you fancy, play a bit with options before moving forward (e.g. set two different colors and different tickers..)\n",
    "\n",
    "#### Hint: Take a look at `subplot` + plot options. "
   ]
  },
  {
   "cell_type": "code",
   "execution_count": null,
   "metadata": {
    "collapsed": true
   },
   "outputs": [],
   "source": []
  },
  {
   "cell_type": "markdown",
   "metadata": {},
   "source": [
    "## Ex 1.3 \n",
    "\n",
    "Generate two plots of any arbitrary `x`, and `y` values whose labels are the corresponding functions written using LaTeX formulas.\n",
    "\n",
    "Example:\n",
    "\n",
    "```python\n",
    "fig, ax = plt.subplots()\n",
    "\n",
    "ax.plot(.....\n",
    "```\n",
    "Put `legend` inside the chart.\n",
    "\n",
    "#### Hint: Take a look at `legend`, axix and `label` plot option"
   ]
  },
  {
   "cell_type": "code",
   "execution_count": null,
   "metadata": {
    "collapsed": true
   },
   "outputs": [],
   "source": []
  },
  {
   "cell_type": "markdown",
   "metadata": {},
   "source": [
    "## Colors \n",
    "\n",
    "With matplotlib, you can define the colors of lines and other graphical elements in a number of ways. \n",
    "\n",
    "First of all, we can use the MATLAB-like syntax where `'b'` means blue, `'g'` means green, etc. The MATLAB API for selecting line styles are also supported: where, for example, 'b.-' means a blue line with dots\n",
    "\n",
    "Example:\n",
    "\n",
    "```python\n",
    "\n",
    "# MATLAB style line color and style \n",
    "ax.plot(x, x**2, 'b.-') # blue line with dots\n",
    "ax.plot(x, x**3, 'g--') # green dashed line\n",
    "```"
   ]
  },
  {
   "cell_type": "markdown",
   "metadata": {},
   "source": [
    "## Ex 1.4\n",
    "\n",
    "Define colors of previous plots by their names or RGB hex codes and optionally provide an alpha value using the `color` and `alpha` keyword arguments"
   ]
  },
  {
   "cell_type": "code",
   "execution_count": null,
   "metadata": {
    "collapsed": true
   },
   "outputs": [],
   "source": []
  },
  {
   "cell_type": "markdown",
   "metadata": {},
   "source": [
    "## Line and marker styles\n",
    "\n",
    "To change the line width, we can use the `linewidth` or `lw` keyword argument. The line style can be selected using the `linestyle` or `ls` keyword arguments"
   ]
  },
  {
   "cell_type": "markdown",
   "metadata": {},
   "source": [
    "## Ex 1.5\n",
    "\n",
    "Generate three plots with different line widths"
   ]
  },
  {
   "cell_type": "code",
   "execution_count": null,
   "metadata": {
    "collapsed": true
   },
   "outputs": [],
   "source": []
  },
  {
   "cell_type": "markdown",
   "metadata": {},
   "source": [
    "## Ex 1.6\n",
    "\n",
    "Generate two plots for ($x$, $x^2$) and ($x$, $e(x)$) using normal and logarithmic scales.\n",
    "\n",
    "#### Hint: Take a look at `set_yscale`"
   ]
  },
  {
   "cell_type": "code",
   "execution_count": null,
   "metadata": {
    "collapsed": true
   },
   "outputs": [],
   "source": []
  },
  {
   "cell_type": "markdown",
   "metadata": {},
   "source": [
    "# 2 .Charts\n",
    "\n",
    "Matplotlib supports different chart types. For example: *Scatter plots*, *Bar plots*, *histograms*."
   ]
  },
  {
   "cell_type": "markdown",
   "metadata": {},
   "source": [
    "## Ex 2.1\n",
    "\n",
    "Generate a `numpy.array` of $10^5$ random numbers. Plot the histogram of this array.\n",
    "\n",
    "#### Hint: Take a look at `plt.hist`. Also, see returned values of this function."
   ]
  },
  {
   "cell_type": "code",
   "execution_count": null,
   "metadata": {
    "collapsed": true
   },
   "outputs": [],
   "source": []
  },
  {
   "cell_type": "markdown",
   "metadata": {},
   "source": [
    "The `plt.hist` docstring has more information on other customization options available. "
   ]
  },
  {
   "cell_type": "markdown",
   "metadata": {},
   "source": [
    "## Ex 2.2\n",
    "\n",
    "Plot the histogram of three (or more) different normal distributions.\n",
    "\n",
    "#### hint: Take a look at `histtype` and `alpha` parameter of the `plt.hist`. \n",
    "\n",
    "#### To generate normal distributions, take a look at `np.random.normal`"
   ]
  },
  {
   "cell_type": "code",
   "execution_count": null,
   "metadata": {
    "collapsed": true
   },
   "outputs": [],
   "source": []
  },
  {
   "cell_type": "markdown",
   "metadata": {},
   "source": [
    "## Ex 2.3\n",
    "\n",
    "Generate a scatter plot of random numbers and itself plus some random perturbations: $y = x + c * \\text{gaussian noise}$.\n",
    "Select colors and markers that you fancy.\n",
    "\n",
    "#### Hint: See `plt.scatter`."
   ]
  },
  {
   "cell_type": "code",
   "execution_count": null,
   "metadata": {
    "collapsed": true
   },
   "outputs": [],
   "source": []
  },
  {
   "cell_type": "markdown",
   "metadata": {},
   "source": [
    "## Ex 2.4\n",
    "\n",
    "Generate a random number distribution and generate a box plot.\n",
    "\n",
    "#### Hint: See `plt.boxplot`"
   ]
  },
  {
   "cell_type": "code",
   "execution_count": null,
   "metadata": {
    "collapsed": true
   },
   "outputs": [],
   "source": []
  },
  {
   "cell_type": "markdown",
   "metadata": {},
   "source": [
    "## Ex 2.4\n",
    "\n",
    "Given \n",
    "```python\n",
    "\n",
    "mean = [0, 0]\n",
    "cov = [[1, 1], [1, 2]]\n",
    "```\n",
    "Get `x` and `y` drawn from a Gaussian Multivariate Distribution and plot a 2D Histogram, along with a corresponding colorbar.\n",
    "\n",
    "#### Hint: See `plot.hist2d` and `plt.colorbar`\n",
    "\n"
   ]
  },
  {
   "cell_type": "code",
   "execution_count": null,
   "metadata": {
    "collapsed": true
   },
   "outputs": [],
   "source": []
  },
  {
   "cell_type": "markdown",
   "metadata": {},
   "source": [
    "# 3. Challenge: Handwritten Digits\n",
    "\n",
    "For an example of where matplotlib might be useful, let’s look at an interesting visualization of some hand-written digits data. \n",
    "\n",
    "This data is included in scikit-learn, and consists of nearly $2000$ $8\\times8$ thumbnails showing various hand-written digits.\n",
    "\n",
    "For now, let’s start by downloading the digits data and visualizing several of the example images with plt.imshow()"
   ]
  },
  {
   "cell_type": "markdown",
   "metadata": {},
   "source": [
    "## Ex 3.1\n",
    "\n",
    "Download the digits dataset from `sklearn`\n",
    "\n",
    "#### Hint: Take a look at `sklearn.datasets`"
   ]
  },
  {
   "cell_type": "code",
   "execution_count": null,
   "metadata": {
    "collapsed": true
   },
   "outputs": [],
   "source": []
  },
  {
   "cell_type": "markdown",
   "metadata": {},
   "source": [
    "## Ex 3.2\n",
    "\n",
    "Generate an $8\\times8$ grid of images with a `figsize` of `(6, 6)` and show images from the dataset.\n",
    "\n",
    "#### Hint: Take a look at `plt.imshow`"
   ]
  },
  {
   "cell_type": "code",
   "execution_count": null,
   "metadata": {
    "collapsed": true
   },
   "outputs": [],
   "source": []
  },
  {
   "cell_type": "markdown",
   "metadata": {},
   "source": [
    "## Ex 3.3 (Manifold Learing Preview)\n",
    "\n",
    "Provided the following two-dimensional manifold learning projection of digits data:\n",
    "\n",
    "```python\n",
    "\n",
    "# project the digits into 2 dimensions using IsoMap from sklearn.manifold \n",
    "import Isomap\n",
    "iso = Isomap(n_components=2)\n",
    "projection = iso.fit_transform(digits.data)\n",
    "```\n",
    "Use a discrete colormap to view the results in a scatter plot, setting the ticks and clim to improve the aesthetics of the resulting colorbar\n"
   ]
  },
  {
   "cell_type": "code",
   "execution_count": null,
   "metadata": {
    "collapsed": true
   },
   "outputs": [],
   "source": []
  },
  {
   "cell_type": "markdown",
   "metadata": {},
   "source": [
    "# There's more: 3D Plotting\n",
    "\n",
    "To use 3D graphics in matplotlib, we first need to create an instance of the `Axes3D` class. 3D axes can be added to a matplotlib figure canvas in exactly the same way as 2D axes; or, more conveniently, by passing a `projection='3d'` keyword argument to the `add_axes` or `add_subplot` methods.\n",
    "\n",
    "Start with \n",
    "\n",
    "`from mpl_toolkits.mplot3d.axes3d import Axes3D`"
   ]
  },
  {
   "cell_type": "code",
   "execution_count": null,
   "metadata": {
    "collapsed": true
   },
   "outputs": [],
   "source": []
  },
  {
   "cell_type": "markdown",
   "metadata": {},
   "source": [
    "# Bokeh\n",
    "\n",
    "Bokeh is a Python interactive visualization library that targets modern web browsers for presentation. Its goal is to provide elegant, concise construction of novel graphics in the style of D3.js, and to extend this capability with high-performance interactivity over very large or streaming datasets. Bokeh can help anyone who would like to quickly and easily create interactive plots, dashboards, and data applications.\n",
    "\n",
    "More on: [http://bokeh.pydata.org/en/latest/](http://bokeh.pydata.org/en/latest/)\n"
   ]
  },
  {
   "cell_type": "markdown",
   "metadata": {},
   "source": [
    "### Using Bokeh\n",
    "\n",
    "Bokeh APIs are slightly different from those of Matplotlib.\n",
    "For example, to make a line you should use `bokeh.plotting.charts.line`:\n",
    "\n",
    "```python\n",
    "# MISSING - PLEASE FILL HERE\n",
    "\n",
    "from bokeh.plotting import figure, show\n",
    "\n",
    "# prepare some data\n",
    "x = list(range(1, 6))\n",
    "y = [6, 7, 2, 4, 5]\n",
    "\n",
    "# create a new plot with axis label and title\n",
    "p = figure(title=\"Sample Line Example\", x_axis_label='x', y_axis_label='y')\n",
    "\n",
    "# add a line rendered with legend and line thickness\n",
    "p.line(x, y, legend='Temp.', line_width=2)\n",
    "\n",
    "# show the result\n",
    "show(p)\n",
    "``` \n",
    "\n",
    "Try this snippet out and fill the missing part - See `bokeh.io.output_notebook`"
   ]
  },
  {
   "cell_type": "code",
   "execution_count": null,
   "metadata": {
    "collapsed": true
   },
   "outputs": [],
   "source": []
  },
  {
   "cell_type": "markdown",
   "metadata": {},
   "source": [
    "## Scatter Plot\n",
    "\n",
    "Generate a Scatter plot using Bokeh library"
   ]
  },
  {
   "cell_type": "code",
   "execution_count": null,
   "metadata": {
    "collapsed": true
   },
   "outputs": [],
   "source": []
  }
 ],
 "metadata": {
  "kernelspec": {
   "display_name": "Python 3.6 (Develer Science)",
   "language": "python",
   "name": "develer-science"
  },
  "language_info": {
   "codemirror_mode": {
    "name": "ipython",
    "version": 3
   },
   "file_extension": ".py",
   "mimetype": "text/x-python",
   "name": "python",
   "nbconvert_exporter": "python",
   "pygments_lexer": "ipython3",
   "version": "3.6.6"
  }
 },
 "nbformat": 4,
 "nbformat_minor": 2
}
