{
 "cells": [
  {
   "cell_type": "markdown",
   "metadata": {},
   "source": [
    "# Numpy Basics Challenge"
   ]
  },
  {
   "cell_type": "code",
   "execution_count": 1,
   "metadata": {
    "collapsed": true
   },
   "outputs": [],
   "source": [
    "# To import numpy:\n",
    "import numpy as np  # np is de-facto standard convention"
   ]
  },
  {
   "cell_type": "markdown",
   "metadata": {},
   "source": [
    "# Brief Recap on Numpy Arrays\n",
    "\n",
    "NumPy's main object is the **homogeneous** ***multidimensional array***. It is a table of elements (usually numbers), all of the same type. \n",
    "\n",
    "In Numpy dimensions are called **axes**. \n",
    "\n",
    "The number of axes is called **rank**. \n",
    "\n",
    "The most important attributes of an ndarray object are:\n",
    "\n",
    "* **ndarray.ndim**     - the number of axes (dimensions) of the array. \n",
    "* **ndarray.shape**    - the dimensions of the array. For a matrix with n rows and m columns, shape will be (n,m). \n",
    "* **ndarray.size**     - the total number of elements of the array. \n",
    "* **ndarray.dtype**    - numpy.int32, numpy.int16, and numpy.float64 are some examples. \n",
    "* **ndarray.itemsize** - the size in bytes of elements of the array. For example, elements of type float64 has itemsize 8 (=64/8) "
   ]
  },
  {
   "cell_type": "markdown",
   "metadata": {},
   "source": [
    "## Warm Up: Creating `numpy` arrays\n",
    "\n",
    "There are a number of ways to initialize new numpy arrays, for example from a Python list or tuples!"
   ]
  },
  {
   "cell_type": "code",
   "execution_count": 2,
   "metadata": {},
   "outputs": [
    {
     "data": {
      "text/plain": [
       "array([1, 2, 3, 4])"
      ]
     },
     "execution_count": 2,
     "metadata": {},
     "output_type": "execute_result"
    }
   ],
   "source": [
    "np.array([1, 2, 3, 4])"
   ]
  },
  {
   "cell_type": "markdown",
   "metadata": {},
   "source": [
    "## Ex 1. Create an array containing integers from $2$ to $2^6$\n",
    "\n",
    "#### Hint: use Python `range` function"
   ]
  },
  {
   "cell_type": "code",
   "execution_count": null,
   "metadata": {
    "collapsed": true
   },
   "outputs": [],
   "source": []
  },
  {
   "cell_type": "markdown",
   "metadata": {},
   "source": [
    "## 1.1 Print `ndarray` attributes and properties\n",
    "(e.g. `type`, `dtype`, `shape...`) using previous on"
   ]
  },
  {
   "cell_type": "code",
   "execution_count": null,
   "metadata": {
    "collapsed": true
   },
   "outputs": [],
   "source": []
  },
  {
   "cell_type": "markdown",
   "metadata": {},
   "source": [
    "## Ex 2. Create a 3x3 Matrix array and fill it with integer numbers"
   ]
  },
  {
   "cell_type": "code",
   "execution_count": null,
   "metadata": {
    "collapsed": true
   },
   "outputs": [],
   "source": []
  },
  {
   "cell_type": "markdown",
   "metadata": {},
   "source": [
    "## Ex3: Create a Matrix of any size and fill it with random numbers\n",
    "\n",
    "### HInt: take a look at `numpy.random.rand`"
   ]
  },
  {
   "cell_type": "code",
   "execution_count": null,
   "metadata": {
    "collapsed": true
   },
   "outputs": [],
   "source": []
  },
  {
   "cell_type": "markdown",
   "metadata": {},
   "source": [
    "# 1. Using _array-generating_ functions\n",
    "\n",
    "For larger arrays it is inpractical to initialize the data manually, using explicit python lists. \n",
    "\n",
    "Instead we can use one of the many **functions** in `numpy` that generates arrays of different forms. \n",
    "\n",
    "So far, you should already have used one that is `numpy.random.rand`.\n",
    "\n",
    "Some of the most common are: \n",
    "\n",
    "* `np.arange`; \n",
    "* `np.linspace`; \n",
    "* `np.logspace`; \n",
    "* `np.ones`;\n",
    "* `np.zeros`;\n",
    "\n",
    "The following challenges will require you to use one (or many) of these functions."
   ]
  },
  {
   "cell_type": "markdown",
   "metadata": {},
   "source": [
    "## Ex 1.1\n",
    "\n",
    "Create an array of floating-point numbers in an arbitrary range (randomly generated), and using a decimal step (e.g. `0.2`) \n",
    "\n",
    "**Note**: You CAN use **three** numpy functions in this exercise. Guess the difference!."
   ]
  },
  {
   "cell_type": "code",
   "execution_count": null,
   "metadata": {
    "collapsed": true
   },
   "outputs": [],
   "source": []
  },
  {
   "cell_type": "markdown",
   "metadata": {},
   "source": [
    "## Ex 1.2\n",
    "\n",
    "Create an Matrix of any shape full of zeros"
   ]
  },
  {
   "cell_type": "code",
   "execution_count": null,
   "metadata": {
    "collapsed": true
   },
   "outputs": [],
   "source": []
  },
  {
   "cell_type": "markdown",
   "metadata": {},
   "source": [
    "## Ex 1.3\n",
    "\n",
    "Create an array of ones and put as the main diagonal of a matrix \n",
    "\n",
    "#### Hint: Take a look at `np.diag` and `np.eye`"
   ]
  },
  {
   "cell_type": "code",
   "execution_count": null,
   "metadata": {
    "collapsed": true
   },
   "outputs": [],
   "source": []
  },
  {
   "cell_type": "markdown",
   "metadata": {},
   "source": [
    "## Ex 1.4\n",
    "\n",
    "Create an arbitrary array of numbers and put it as the first upper off-diagonal of a new matrix\n",
    "\n",
    "#### Hint: Look at the parameters of  `np.diag`"
   ]
  },
  {
   "cell_type": "code",
   "execution_count": null,
   "metadata": {
    "collapsed": true
   },
   "outputs": [],
   "source": []
  },
  {
   "cell_type": "markdown",
   "metadata": {},
   "source": [
    "# 2. File I/O\n",
    "\n",
    "## Comma-separated values (CSV)\n",
    "\n",
    "A very common file format for data files are the comma-separated values (CSV), or related format such as TSV (tab-separated values). To read data from such file into Numpy arrays we can use the `numpy.genfromtxt` function. For example:"
   ]
  },
  {
   "cell_type": "code",
   "execution_count": 2,
   "metadata": {},
   "outputs": [
    {
     "name": "stdout",
     "output_type": "stream",
     "text": [
      "1800  1  1    -6.1    -6.1    -6.1 1\n",
      "1800  1  2   -15.4   -15.4   -15.4 1\n",
      "1800  1  3   -15.0   -15.0   -15.0 1\n",
      "1800  1  4   -19.3   -19.3   -19.3 1\n",
      "1800  1  5   -16.8   -16.8   -16.8 1\n",
      "1800  1  6   -11.4   -11.4   -11.4 1\n",
      "1800  1  7    -7.6    -7.6    -7.6 1\n",
      "1800  1  8    -7.1    -7.1    -7.1 1\n",
      "1800  1  9   -10.1   -10.1   -10.1 1\n",
      "1800  1 10    -9.5    -9.5    -9.5 1\n"
     ]
    }
   ],
   "source": [
    "!head files/stockholm_td_adj.dat"
   ]
  },
  {
   "cell_type": "markdown",
   "metadata": {},
   "source": [
    "# Ex 2.1\n",
    "\n",
    "Generate a numpy array with data extracted from csv file.\n",
    "\n",
    "#### Hint: Take a look at `np.genfromtxt`"
   ]
  },
  {
   "cell_type": "code",
   "execution_count": null,
   "metadata": {
    "collapsed": true
   },
   "outputs": [],
   "source": []
  },
  {
   "cell_type": "markdown",
   "metadata": {},
   "source": [
    "## Ex 2.2 \n",
    "\n",
    "Analise properties of resulting `np.ndarrays` loaded from file."
   ]
  },
  {
   "cell_type": "code",
   "execution_count": null,
   "metadata": {
    "collapsed": true
   },
   "outputs": [],
   "source": []
  },
  {
   "cell_type": "markdown",
   "metadata": {},
   "source": [
    "## Ex 2.3\n",
    "\n",
    "Create a $100 \\times 100$ matrix of random numbers, `reshape` as a $10000 \\times 1$ array and save it in a new file in the `data` folder.\n",
    "\n",
    "#### Hint: `np.save` might be useful :). The other hint is in the text !-)"
   ]
  },
  {
   "cell_type": "code",
   "execution_count": null,
   "metadata": {
    "collapsed": true
   },
   "outputs": [],
   "source": []
  },
  {
   "cell_type": "markdown",
   "metadata": {},
   "source": [
    "## Ex 2.4\n",
    "\n",
    "Load back the previously saved array and print out the first 20 elements\n",
    "\n",
    "#### Note: We are bit anticipating indexing here, but I believe you may guess if you know a bit about Python List"
   ]
  },
  {
   "cell_type": "code",
   "execution_count": null,
   "metadata": {
    "collapsed": true
   },
   "outputs": [],
   "source": []
  },
  {
   "cell_type": "markdown",
   "metadata": {},
   "source": [
    "### Ex 2.4.1\n",
    "\n",
    "To make it a little bit harder, `reshape` the array back into a \n",
    "$100 \\times 100$ matrix and print out the first row and the first column."
   ]
  },
  {
   "cell_type": "code",
   "execution_count": null,
   "metadata": {
    "collapsed": true
   },
   "outputs": [],
   "source": []
  },
  {
   "cell_type": "markdown",
   "metadata": {},
   "source": [
    "# 3. Indexing"
   ]
  },
  {
   "cell_type": "markdown",
   "metadata": {},
   "source": [
    "Index slicing is the technical name for the syntax `M[lower:upper:step]` to extract part of an array"
   ]
  },
  {
   "cell_type": "markdown",
   "metadata": {},
   "source": [
    "## Ex 3.1 \n",
    "\n",
    "Generate a three-dimensional array of any size containing random numbers taken from an uniform distribution (_guess the numpy function in `np.random`_). Then print out separately the first entry along the three axis (i.e. `x, y, z`)  \n",
    "\n",
    "\n",
    "#### Hint: Slicing with numpy arrays works quite like Python lists"
   ]
  },
  {
   "cell_type": "code",
   "execution_count": null,
   "metadata": {
    "collapsed": true
   },
   "outputs": [],
   "source": []
  },
  {
   "cell_type": "markdown",
   "metadata": {},
   "source": [
    "## Ex 3.2\n",
    "\n",
    "Create a vector and print out elements in reverse order\n",
    "\n",
    "#### Hint: Use slicing for this exercise"
   ]
  },
  {
   "cell_type": "code",
   "execution_count": null,
   "metadata": {
    "collapsed": true
   },
   "outputs": [],
   "source": []
  },
  {
   "cell_type": "markdown",
   "metadata": {},
   "source": [
    "## Ex 3.3\n",
    "\n",
    "Generate a $7 \\times 7$ matrix and replace all the elements in odd rows and even columns with `1`.\n",
    "\n",
    "#### Hint: Use slicing to solve this exercise!\n",
    "\n",
    "#### Note: Take a look at the original matrix, then."
   ]
  },
  {
   "cell_type": "code",
   "execution_count": null,
   "metadata": {
    "collapsed": true
   },
   "outputs": [],
   "source": []
  },
  {
   "cell_type": "markdown",
   "metadata": {},
   "source": [
    "## Ex 3.4 \n",
    "\n",
    "Generate a `10 x 10` matrix of numbers `A`. Then, generate a numpy array of integers in range `1-9`. Pick `5` random values (with no repetition) from this array and use these values to extract rows from the original matrix `A`."
   ]
  },
  {
   "cell_type": "code",
   "execution_count": null,
   "metadata": {
    "collapsed": true
   },
   "outputs": [],
   "source": []
  },
  {
   "cell_type": "markdown",
   "metadata": {},
   "source": [
    "## Ex 3.5 \n",
    "\n",
    "Repeat the previous exercise but this time extract columns from `A`"
   ]
  },
  {
   "cell_type": "code",
   "execution_count": null,
   "metadata": {
    "collapsed": true
   },
   "outputs": [],
   "source": []
  },
  {
   "cell_type": "markdown",
   "metadata": {},
   "source": [
    "## Ex 3.6\n",
    "\n",
    "Generate an array of numbers from `0` to `20` with step `0.5`. \n",
    "Extract all the values greater than a randomly generated number in the same range.\n",
    "\n",
    "#### Hint: Try to write the condition as an expression and save it to a variable. Then, use this variable in square brackets to index.... this is when the magic happens!"
   ]
  },
  {
   "cell_type": "code",
   "execution_count": null,
   "metadata": {
    "collapsed": true
   },
   "outputs": [],
   "source": []
  },
  {
   "cell_type": "markdown",
   "metadata": {},
   "source": [
    "# 4. Basic Arithmetics\n",
    "\n",
    "Vectorizing code is the key to writing efficient numerical calculation with Python/Numpy. That means that as much as possible of a program should be formulated in terms of matrix and vector operations, like matrix-matrix multiplication.\n",
    "\n",
    "## Scalar-array operartions\n",
    "\n",
    "We can use the usual arithmetic operators to multiply, add, subtract, and divide arrays with scalar numbers."
   ]
  },
  {
   "cell_type": "markdown",
   "metadata": {},
   "source": [
    "## Ex 4.1 \n",
    "\n",
    "Generate a matrix of any size. Then multiply each element by `2` and subtract `1`.\n",
    "\n",
    "#### HInt: The most intuitive way to implement this is the right one!"
   ]
  },
  {
   "cell_type": "code",
   "execution_count": null,
   "metadata": {
    "collapsed": true
   },
   "outputs": [],
   "source": []
  },
  {
   "cell_type": "markdown",
   "metadata": {},
   "source": [
    "## Ex 4.2\n",
    "\n",
    "Generate two square matrix of random numbers and multiply them element wise.\n",
    "\n",
    "#### Hint: The clues from the previous exercise also apply here!-)"
   ]
  },
  {
   "cell_type": "code",
   "execution_count": null,
   "metadata": {
    "collapsed": true
   },
   "outputs": [],
   "source": []
  },
  {
   "cell_type": "markdown",
   "metadata": {},
   "source": [
    "## Ex 4.3\n",
    "\n",
    "Execute the `dot` product between two randomly generated matrix of comparable shapes.\n",
    "\n",
    "#### Hint: Since we are using Python 3 here, you should be aware of the `@` operator.. :)"
   ]
  },
  {
   "cell_type": "code",
   "execution_count": null,
   "metadata": {
    "collapsed": true
   },
   "outputs": [],
   "source": []
  },
  {
   "cell_type": "markdown",
   "metadata": {},
   "source": [
    "## Ex 4.4\n",
    "\n",
    "Generate a matrix of any size and create the transpose.\n",
    "\n",
    "#### Hint: Guess the difference from `np.transpose` and `array.T`"
   ]
  },
  {
   "cell_type": "code",
   "execution_count": null,
   "metadata": {
    "collapsed": true
   },
   "outputs": [],
   "source": []
  },
  {
   "cell_type": "markdown",
   "metadata": {},
   "source": [
    "## Ex 4.5\n",
    "\n",
    "Generate a `ndarray` of any size and shape of random numbers and calculate some statistics (`mean`, `sum` along axis, `min`, `max`)\n",
    "\n",
    "\n",
    "#### HInt: Clues in the text of the exercise !-)"
   ]
  },
  {
   "cell_type": "code",
   "execution_count": null,
   "metadata": {
    "collapsed": true
   },
   "outputs": [],
   "source": []
  },
  {
   "cell_type": "markdown",
   "metadata": {},
   "source": [
    "# 5. Stacking and repeating arrays\n",
    "\n",
    "Using function `repeat`, `tile`, `vstack`, `hstack`, and `concatenate` we can create larger vectors and matrices from smaller ones\n",
    "\n"
   ]
  },
  {
   "cell_type": "markdown",
   "metadata": {},
   "source": [
    "## Ex 5.1\n",
    "\n",
    "Generate two random matrix of the same size and concatenate on the `y-axis`.\n",
    "\n",
    "#### Hint: You CAN use **two** functions to solve this challenge. Guess the differences."
   ]
  },
  {
   "cell_type": "code",
   "execution_count": null,
   "metadata": {
    "collapsed": true
   },
   "outputs": [],
   "source": []
  },
  {
   "cell_type": "markdown",
   "metadata": {},
   "source": [
    "## Ex 5.2\n",
    "\n",
    "Generate two random matrix of the same size and concatenate on the `x-axis`.\n",
    "\n",
    "#### Hint: You CAN use **two** functions to solve this challenge. Guess the differences."
   ]
  },
  {
   "cell_type": "code",
   "execution_count": null,
   "metadata": {
    "collapsed": true
   },
   "outputs": [],
   "source": []
  },
  {
   "cell_type": "markdown",
   "metadata": {},
   "source": [
    "# So, why is it useful then?\n",
    "\n",
    "So far the `numpy.ndarray` looks awefully much like a Python **list** (or **nested list**). \n",
    "\n",
    "*Why not simply use Python lists for computations instead of creating a new array type?*\n",
    "\n",
    "There are several reasons:\n",
    "\n",
    "* Python lists are very general. \n",
    "    - They can contain any kind of object. \n",
    "    - They are dynamically typed. \n",
    "    - They do not support mathematical functions such as matrix and dot multiplications, etc. \n",
    "    - Implementing such functions for Python lists would not be very efficient because of the dynamic typing.\n",
    "    \n",
    "    \n",
    "* Numpy arrays are **statically typed** and **homogeneous**. \n",
    "    - The type of the elements is determined when array is created.\n",
    "    \n",
    "    \n",
    "* Numpy arrays are memory efficient.\n",
    "    - Because of the static typing, fast implementation of mathematical functions such as multiplication and addition of `numpy` arrays can be implemented in a compiled language (C and Fortran is used)."
   ]
  },
  {
   "cell_type": "markdown",
   "metadata": {},
   "source": [
    "### Benchmark\n",
    "\n",
    "Initialise a range of 1000 numbers as a python `list` and as a `numpy.array`. Square all the elements and time this operation!\n",
    "\n",
    "### Hint: Use `%timeit` IPython Magic to take timing"
   ]
  },
  {
   "cell_type": "code",
   "execution_count": null,
   "metadata": {
    "collapsed": true
   },
   "outputs": [],
   "source": []
  }
 ],
 "metadata": {
  "kernelspec": {
   "display_name": "Python 3.6 (Develer Science)",
   "language": "python",
   "name": "develer-science"
  },
  "language_info": {
   "codemirror_mode": {
    "name": "ipython",
    "version": 3
   },
   "file_extension": ".py",
   "mimetype": "text/x-python",
   "name": "python",
   "nbconvert_exporter": "python",
   "pygments_lexer": "ipython3",
   "version": "3.6.6"
  }
 },
 "nbformat": 4,
 "nbformat_minor": 2
}
