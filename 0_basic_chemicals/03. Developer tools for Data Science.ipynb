{
 "cells": [
  {
   "cell_type": "markdown",
   "metadata": {},
   "source": [
    "# Developer Tools and IDEs for Data Science\n",
    "\n",
    "**Note**: This is not intended to be a comprehensive guide on tools and IDEs for Data Science.\n",
    "The spirit is to reference some interesting tools out there to be used."
   ]
  },
  {
   "cell_type": "markdown",
   "metadata": {},
   "source": [
    "## Jupyter Notebooks \n",
    "\n",
    "<img alt=\"Jupyter notebook logo\" src=\"http://jupyter.org/assets/main-logo.svg\" width=\"30%\"/>"
   ]
  },
  {
   "cell_type": "markdown",
   "metadata": {},
   "source": [
    "## nteract\n",
    "\n",
    "<div style=\"background-color: rgb(51, 72, 101)\">\n",
    "    <img src=\"https://nteract.github.io/assets/images/feature_nteract_logo_header_white@2x.png\" />\n",
    "</div>\n"
   ]
  },
  {
   "cell_type": "code",
   "execution_count": 2,
   "metadata": {},
   "outputs": [
    {
     "data": {
      "text/html": [
       "<video src=\"https://nteract.github.io/assets/images/video/nteract_app_demo@2x.mp4\" controls>\n",
       "      Your browser does not support the <code>video</code> element.\n",
       "    </video>"
      ],
      "text/plain": [
       "<IPython.core.display.Video object>"
      ]
     },
     "execution_count": 2,
     "metadata": {},
     "output_type": "execute_result"
    }
   ],
   "source": [
    "from IPython.display import Video\n",
    "\n",
    "Video(\"https://nteract.github.io/assets/images/video/nteract_app_demo@2x.mp4\")"
   ]
  },
  {
   "cell_type": "markdown",
   "metadata": {},
   "source": [
    "## Atom + HydroGen"
   ]
  },
  {
   "cell_type": "markdown",
   "metadata": {},
   "source": [
    "<img src=\"https://i.github-camo.com/e17ac2bfffce4ede5cae57c3109ef7f53effc997/68747470733a2f2f636c6f75642e67697468756275736572636f6e74656e742e636f6d2f6173736574732f31333238353830382f32303336303838362f37653033653532342d616330332d313165362d393137362d3337363737663232363631392e676966\" alt=\"Atom Hydrogen GIF\" />"
   ]
  },
  {
   "cell_type": "markdown",
   "metadata": {},
   "source": [
    "## PyCharm IDE"
   ]
  },
  {
   "attachments": {},
   "cell_type": "markdown",
   "metadata": {},
   "source": [
    "<img src=\"../images/pycharm.png\" width=\"30%\">\n",
    "\n",
    "\n",
    "### Scientific Mode\n",
    "\n",
    "[PyCharm Scientific Mode](https://www.jetbrains.com/help/pycharm/matplotlib-tutorial.html)"
   ]
  },
  {
   "cell_type": "markdown",
   "metadata": {},
   "source": [
    "## Others worthwile mentioning..."
   ]
  },
  {
   "cell_type": "markdown",
   "metadata": {},
   "source": [
    "* **Spyder**: [https://www.spyder-ide.org]()\n",
    "* **Rodeo**: [https://rodeo.yhat.com]()\n",
    "* **VS Code**: [https://code.visualstudio.com]()"
   ]
  }
 ],
 "metadata": {
  "kernelspec": {
   "display_name": "Python 3.6 (Develer Science)",
   "language": "python",
   "name": "develer-science"
  },
  "language_info": {
   "codemirror_mode": {
    "name": "ipython",
    "version": 3
   },
   "file_extension": ".py",
   "mimetype": "text/x-python",
   "name": "python",
   "nbconvert_exporter": "python",
   "pygments_lexer": "ipython3",
   "version": "3.6.6"
  }
 },
 "nbformat": 4,
 "nbformat_minor": 2
}
